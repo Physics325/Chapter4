{
 "cells": [
  {
   "cell_type": "markdown",
   "metadata": {},
   "source": [
    "# Lab 4 - Additional ODEs\n",
    "We'll look into more ODEs that can be solved using our techniques. These are problems from Chapter 4 and some will likely be for homework. Use the lab time to begin working on them in this order:\n",
    "\n",
    "1) Problem 4-5, multi-element radioactive decay. \n",
    "\n",
    "2) Problem 4-8, driven spring-mass system. Note the plot is amplitude vs drive frequency $\\omega$\n",
    "\n",
    "3) Problem 4-9, finite resources. Many models in finance, resource management, and economics follow a set of DEs. Use our tools to explore a model of oil based on extraction, price, and demand.\n",
    "\n",
    "4) Problem 4-6 (if you have time).\n"
   ]
  },
  {
   "cell_type": "code",
   "execution_count": null,
   "metadata": {
    "collapsed": true
   },
   "outputs": [],
   "source": []
  }
 ],
 "metadata": {
  "kernelspec": {
   "display_name": "Python 3",
   "language": "python",
   "name": "python3"
  },
  "language_info": {
   "codemirror_mode": {
    "name": "ipython",
    "version": 3
   },
   "file_extension": ".py",
   "mimetype": "text/x-python",
   "name": "python",
   "nbconvert_exporter": "python",
   "pygments_lexer": "ipython3",
   "version": "3.5.1"
  }
 },
 "nbformat": 4,
 "nbformat_minor": 0
}
