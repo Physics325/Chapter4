{
 "cells": [
  {
   "cell_type": "markdown",
   "metadata": {},
   "source": [
    "# Lab 3 - ODEs\n",
    "This notebook is a template for your lab activities on ODEs.\n",
    "\n",
    "1) Complete your integrator problem from Wed. Create a graph showing position vs time for a variety of initial velocities or positions (whichever is sensible for the problem). Make at least one of each kind of graph (x vs t and v vs t).\n",
    "\n",
    "2) Implement `odeint` on the spring-pendulum in Example 4.5.1. Start from the picture and associated equations and write the (four) first order ODE's. Next, code the `derivs` function and any additional code to solve the systems motion. Try to do this without looking at the book. As you do this, think about what to plot that would most clearly illustrate the motion.\n",
    "\n",
    "3) Implement `odeint` for damped, driven harmonic oscillator (Example 4.5.2). Notice that this includes time in the `derivs` function. Plot the results for a variety of initial parameter values (but keep the same initial conditions). Identify when the system is over-damped and when it is under-damped."
   ]
  },
  {
   "cell_type": "code",
   "execution_count": null,
   "metadata": {
    "collapsed": false
   },
   "outputs": [],
   "source": [
    "%pylab inline\n",
    "from scipy.integrate import odeint"
   ]
  },
  {
   "cell_type": "code",
   "execution_count": null,
   "metadata": {
    "collapsed": true
   },
   "outputs": [],
   "source": []
  }
 ],
 "metadata": {
  "kernelspec": {
   "display_name": "Python 3",
   "language": "python",
   "name": "python3"
  },
  "language_info": {
   "codemirror_mode": {
    "name": "ipython",
    "version": 3
   },
   "file_extension": ".py",
   "mimetype": "text/x-python",
   "name": "python",
   "nbconvert_exporter": "python",
   "pygments_lexer": "ipython3",
   "version": "3.5.1"
  }
 },
 "nbformat": 4,
 "nbformat_minor": 0
}
