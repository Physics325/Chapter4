{
 "cells": [
  {
   "cell_type": "markdown",
   "metadata": {},
   "source": [
    "# Lab 3 - ODEs\n",
    "This notebook is a template for your lab activities on ODEs.\n",
    "\n",
    "1) Complete your integrator problem from Wed. Create a graph showing position vs time for a variety of initial velocities or positions (whichever is sensible for the problem). Make at least one of each kind of graph (x vs t and v vs t).\n",
    "\n",
    "2) Implement `odeint` on the spring-pendulum in Example 4.5.1. Start from the picture and associated equations and write the (four) first order ODE's. Next, code the `derivs` function and any additional code to solve the systems motion. Try to do this without looking at the book. As you do this, think about what to plot that would most clearly illustrate the motion.\n",
    "\n",
    "3) Implement `odeint` for damped, driven harmonic oscillator (Example 4.5.2). Notice that this includes time in the `derivs` function. Plot the results for a variety of initial parameter values (but keep the same initial conditions). Identify when the system is over-damped and when it is under-damped."
   ]
  },
  {
   "cell_type": "code",
   "execution_count": null,
   "metadata": {
    "collapsed": false
   },
   "outputs": [],
   "source": [
    "%pylab inline\n",
    "from scipy.integrate import odeint"
   ]
  },
  {
   "cell_type": "markdown",
   "metadata": {
    "collapsed": true
   },
   "source": [
    "### Looping through initial values\n",
    "\n",
    "One of the values of doing numerical computations is that you can quickly examine the behavior of a system as a function of different parameters of the problem.  For example, you can look at how the position vs time changes as you change an initial velocity.\n",
    "\n",
    "One way to do this for for these differential equation solvers is to add a third dimension to the solutions array that the solvers work with (\"Y\"), to hold the results of each iteration.\n",
    "\n",
    "Let's practice using a 3D array.  Suppose we're using Runke-Kutta to evaluate the FreeFall example for several values of initial velocity v0.  You will need a 3D array to hold the 2D array of results for each iteration of parameter v0.\n",
    "How do you index this 3D array?\n",
    "\n",
    "1. Start by using the zeros() function to initialize a 3D array  with 3 “sheets”, 20 rows, and 2 cols.  (How many time points will this hold? How many different v0 values will it hold?)\n",
    "2. Set the 5th time step values of position and velocity of the 2nd v0 iteration to pos=2, vel=5\n",
    "3. Set the initial value of position to 20 and initial value of velocity to 10 for all iterations of v0\n",
    "4. Write a set of for loops to fill this 3D array with:\n",
    "0, 0\n",
    "2, 1\n",
    "4, 3\n",
    "6, 5\n",
    "8, 7\n",
    "etc.\n",
    "in first sheet and \n",
    "0, 0\n",
    "20, 10\n",
    "40, 30\n",
    "60, 50\n",
    "80, 70\n",
    "in second sheet, and \n",
    "0, 0\n",
    "200, 100\n",
    "400, 300\n",
    "600, 500\n",
    "800, 700\n",
    "etc.\n",
    "\n",
    "5. Now, say you want to pull out a 2D array holding the rows+cols of the 2nd iteration.  How do you do it? \n",
    "\n",
    "\n",
    "\n"
   ]
  },
  {
   "cell_type": "code",
   "execution_count": null,
   "metadata": {
    "collapsed": true
   },
   "outputs": [],
   "source": []
  }
 ],
 "metadata": {
  "kernelspec": {
   "display_name": "Python 3",
   "language": "python",
   "name": "python3"
  },
  "language_info": {
   "codemirror_mode": {
    "name": "ipython",
    "version": 3
   },
   "file_extension": ".py",
   "mimetype": "text/x-python",
   "name": "python",
   "nbconvert_exporter": "python",
   "pygments_lexer": "ipython3",
   "version": "3.5.1"
  }
 },
 "nbformat": 4,
 "nbformat_minor": 0
}
