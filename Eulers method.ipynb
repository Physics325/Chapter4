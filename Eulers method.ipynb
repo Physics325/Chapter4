{
 "cells": [
  {
   "cell_type": "markdown",
   "metadata": {},
   "source": [
    "# Chapter 4: ODEs\n",
    "Example code from Chapter 4"
   ]
  },
  {
   "cell_type": "code",
   "execution_count": 1,
   "metadata": {
    "collapsed": false
   },
   "outputs": [
    {
     "name": "stdout",
     "output_type": "stream",
     "text": [
      "Populating the interactive namespace from numpy and matplotlib\n"
     ]
    }
   ],
   "source": [
    "%pylab inline"
   ]
  },
  {
   "cell_type": "code",
   "execution_count": 2,
   "metadata": {
    "collapsed": true
   },
   "outputs": [],
   "source": [
    "def FreeFall(state , time):\n",
    "    \"\"\"This function defines the ODE dˆ2x/dtˆ2 =  g.\n",
    "    It takes the vector y and returns another vector containing the \n",
    "    derivatives of each element in the current state of the system.\n",
    "    The first element in state is position x, and the derivative of x \n",
    "    is velocity , v. So the first element in the return vector is v, \n",
    "    which is the second element in state .\n",
    "    The second element in state is v, and the derivative of v is  g \n",
    "    for free fall . The result is returned as a numpy array so the \n",
    "    rest of the program can do vector math.\"\"\"\n",
    "    g0 = state[1]\n",
    "    g1 =  9.8\n",
    "    return array([g0, g1])"
   ]
  },
  {
   "cell_type": "code",
   "execution_count": 3,
   "metadata": {
    "collapsed": true
   },
   "outputs": [],
   "source": [
    "def euler(y, t, dt, derivs):\n",
    "    \"\"\"A routine that impliments Euler ’s method of finding the new ’state’ \n",
    "    of y, given the current state, time, and desired time step . ’ derivs ’ \n",
    "    must be a function that returns the derivatives of y and thus defines \n",
    "    the differential equation.\"\"\"    \n",
    "    y_next = y + derivs(y,t) * dt \n",
    "    return y_next"
   ]
  },
  {
   "cell_type": "code",
   "execution_count": 11,
   "metadata": {
    "collapsed": false
   },
   "outputs": [
    {
     "data": {
      "text/plain": [
       "<matplotlib.legend.Legend at 0x10d2a8898>"
      ]
     },
     "execution_count": 11,
     "metadata": {},
     "output_type": "execute_result"
    },
    {
     "data": {
      "image/png": "[encoded data removed]",
      "text/plain": [
       "<matplotlib.figure.Figure at 0x10d0b6390>"
      ]
     },
     "metadata": {},
     "output_type": "display_data"
    }
   ],
   "source": [
    "N = 1000\n",
    "xo = 0.0\n",
    "vo = 0.0\n",
    "tau = 3.0\n",
    "\n",
    "dt = tau/float(N-1)\n",
    "\n",
    "k = 3.5\n",
    "m = 0.2\n",
    "\n",
    "gravity = 9.8\n",
    "\n",
    "# Euler ’s method for ODE’s , written earlier\n",
    "# number of steps to take # initial position , spring # unstretched.\n",
    "# initial velocity\n",
    "# total time for the\n",
    "# simulation , in seconds . # time step\n",
    "# spring constant , in N/m # mass, in kg\n",
    "# g, in m/sˆ2\n",
    "# Since we’re plotting vs t , we need time for that plot .\n",
    "\n",
    "time = linspace(0, tau, N)\n",
    "\n",
    "\n",
    "\"\"\"Create a Nx2 array for storing the results of our calculations. \n",
    "Each 2 element row will be used for the state of the system at one \n",
    "instant , and each instant is separated by time dt. The first element \n",
    "in each row will be position, the second velocity.\"\"\"\n",
    "y = zeros([N,2]) # the state vector\n",
    "y[0,0] = xo\n",
    "y[0,1] = vo\n",
    "\n",
    "def SHO(state, time):\n",
    "    \"\"\"This defines the differential equation we’re solving: \n",
    "    dxˆ2/dt= -k/m x - g.\n",
    "    We break this second order DE into two first  order DE’s \n",
    "    by introducing v:\n",
    "    dx/dt = v\n",
    "    dv/dt = k/m x - g\n",
    "    \"\"\"\n",
    "    g0 = state[1]\n",
    "    g1 =  -k/m * state [0] - gravity\n",
    "    return array([g0, g1])\n",
    "\n",
    "# Now we do the calculations.\n",
    "# Loop only to N 1 so that we don’t run into a # problem addressing y[N+1] \n",
    "# on the last point.\n",
    "for j in range(N-1):\n",
    "    # We give the euler routine the current state # y[j], the time \n",
    "    # (which we don’t care about at all in this ODE) the time step dt, and \n",
    "    # the derivatives function SHO().\n",
    "    y[j+1] = euler(y[j], time[j], dt, SHO)\n",
    "\n",
    "    # That’s it for calculations! Now graph the results .\n",
    "    # start by pulling out what we need from y.\n",
    "\n",
    "    xdata = [y[j,0] for j in range(N)] \n",
    "    vdata = [y[j,1] for j in range(N)]\n",
    "plot(time, xdata, label=\"position\")\n",
    "plot(time, vdata, label=\"velocity\")\n",
    "xlabel (\"time\")\n",
    "ylabel(\"position, velocity\")\n",
    "legend()"
   ]
  },
  {
   "cell_type": "markdown",
   "metadata": {},
   "source": [
    "## Questions:\n",
    " * Why does the spring oscillate even if velocity and position are both zero initially?\n",
    " * How does this look after long time?\n",
    " * Are there other (simpler) ways to plot the portion of the y vector that we want? (Hint: array slicing)"
   ]
  },
  {
   "cell_type": "code",
   "execution_count": null,
   "metadata": {
    "collapsed": true
   },
   "outputs": [],
   "source": []
  }
 ],
 "metadata": {
  "kernelspec": {
   "display_name": "Python 3",
   "language": "python",
   "name": "python3"
  },
  "language_info": {
   "codemirror_mode": {
    "name": "ipython",
    "version": 3
   },
   "file_extension": ".py",
   "mimetype": "text/x-python",
   "name": "python",
   "nbconvert_exporter": "python",
   "pygments_lexer": "ipython3",
   "version": "3.5.1"
  }
 },
 "nbformat": 4,
 "nbformat_minor": 0
}
