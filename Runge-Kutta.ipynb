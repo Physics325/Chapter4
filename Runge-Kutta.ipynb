{
 "cells": [
  {
   "cell_type": "markdown",
   "metadata": {},
   "source": [
    "## Runge-Kutta methods for solving DE's\n",
    "\n"
   ]
  },
  {
   "cell_type": "code",
   "execution_count": 2,
   "metadata": {
    "collapsed": false
   },
   "outputs": [
    {
     "name": "stdout",
     "output_type": "stream",
     "text": [
      "Populating the interactive namespace from numpy and matplotlib\n"
     ]
    }
   ],
   "source": [
    "%pylab inline"
   ]
  },
  {
   "cell_type": "code",
   "execution_count": 3,
   "metadata": {
    "collapsed": true
   },
   "outputs": [],
   "source": [
    "def rk2 (y , time , dt , derivs ) :\n",
    "    \"\"\"\n",
    "    This function moves the value of 'y' forward by a single\n",
    "    step of size 'dt', using a second-order Runge-Kutta\n",
    "    algorithm. This particular algorithm is equivalent to\n",
    "    f i n d i n g the average of the s l o p e at t ime t and at t ime\n",
    "    ( t+dt ) , and using t h a t average s l o p e to f i n d the new\n",
    "    value of y .\n",
    "    \"\"\"\n",
    "    k0 = dt*derivs(y , time )\n",
    "    k1 = dt*derivs( y + k0 , time + dt )\n",
    "    ynext = y + 0.5*( k0 + k1 )\n",
    "    return ynext"
   ]
  },
  {
   "cell_type": "code",
   "execution_count": 5,
   "metadata": {
    "collapsed": true
   },
   "outputs": [],
   "source": [
    "def kin(y, time, x0, v0, a):\n",
    "    \"\"\" \n",
    "    Function to calculate position and velocity from the kinematic eqn\n",
    "    \"\"\"\n",
    "    x=x0+v0*time+0.5*a*time**2\n",
    "    v=v0+a*time\n",
    "    y[0]=x\n",
    "    y[1]=v\n",
    "    \n",
    "    "
   ]
  },
  {
   "cell_type": "code",
   "execution_count": 11,
   "metadata": {
    "collapsed": true
   },
   "outputs": [],
   "source": [
    "def euler(y, t, dt, derivs):\n",
    "    \"\"\"A routine that implements Euler ’s method of finding the new ’state’ \n",
    "    of y, given the current state, time, and desired time step . ’ derivs ’ \n",
    "    must be a function that returns the derivatives of y and thus defines \n",
    "    the differential equation.\"\"\"    \n",
    "    y_next = y + derivs(y,t) * dt \n",
    "    return y_next"
   ]
  },
  {
   "cell_type": "code",
   "execution_count": 14,
   "metadata": {
    "collapsed": true
   },
   "outputs": [],
   "source": [
    "def FreeFall(state , time):\n",
    "    \"\"\"This function defines the ODE dˆ2x/dtˆ2 =  g.\n",
    "    It takes the vector y and returns another vector containing the \n",
    "    derivatives of each element in the current state of the system.\n",
    "    The first element in state is position x, and the derivative of x \n",
    "    is velocity , v. So the first element in the return vector is v, \n",
    "    which is the second element in state .\n",
    "    The second element in state is v, and the derivative of v is  g \n",
    "    for free fall . The result is returned as a numpy array so the \n",
    "    rest of the program can do vector math.\"\"\"\n",
    "    g0 = state[1]\n",
    "    g1 =  -9.8\n",
    "    return array([g0, g1])"
   ]
  },
  {
   "cell_type": "code",
   "execution_count": 20,
   "metadata": {
    "collapsed": false
   },
   "outputs": [
    {
     "data": {
      "text/plain": [
       "<matplotlib.legend.Legend at 0x1095b7a20>"
      ]
     },
     "execution_count": 20,
     "metadata": {},
     "output_type": "execute_result"
    },
    {
     "data": {
      "image/png": "[encoded data removed]",
      "text/plain": [
       "<matplotlib.figure.Figure at 0x108ecd160>"
      ]
     },
     "metadata": {},
     "output_type": "display_data"
    }
   ],
   "source": [
    "# test kin function\n",
    "N = 100\n",
    "tau = 3.0\n",
    "time = linspace(0, tau, N)\n",
    "x0=20\n",
    "v0=10\n",
    "a=-9.8\n",
    "y = zeros([N,2]) # the state vector\n",
    "y[0,0] = x0\n",
    "y[0,1] = v0\n",
    "\n",
    "for j in range(N-1):\n",
    "    y[j+1] = kin(y[j], time[j], x0, v0, a)\n",
    "\n",
    "xdata = [y[j,0] for j in range(N)] \n",
    "vdata = [y[j,1] for j in range(N)]\n",
    "plot(time, xdata, label=\"position\")\n",
    "plot(time, vdata, label=\"velocity\")\n",
    "title('Free Fall simulation')\n",
    "xlabel (\"time\")\n",
    "ylabel(\"position, velocity\")\n",
    "legend()\n"
   ]
  },
  {
   "cell_type": "code",
   "execution_count": 53,
   "metadata": {
    "collapsed": false
   },
   "outputs": [
    {
     "data": {
      "text/plain": [
       "(0, 1.5)"
      ]
     },
     "execution_count": 53,
     "metadata": {},
     "output_type": "execute_result"
    },
    {
     "data": {
      "image/png": "[encoded data removed]",
      "text/plain": [
       "<matplotlib.figure.Figure at 0x10aa246a0>"
      ]
     },
     "metadata": {},
     "output_type": "display_data"
    }
   ],
   "source": [
    "# compare behavior of Runge-Kutta to Euler's Method for free fall\n",
    "#\n",
    "N = 200\n",
    "xo = 20.0\n",
    "vo = 10.0\n",
    "tau = 10.0\n",
    "dt = tau/float(N-1)\n",
    "\n",
    "# number of steps to take \n",
    "# initial position\n",
    "# initial velocity\n",
    "# total time for the simulation , in seconds. \n",
    "# time step\n",
    "\n",
    "# Since we’re plotting vs t , we need time for that plot.\n",
    "\n",
    "time = linspace(0, tau, N)\n",
    "\n",
    "\n",
    "\"\"\"Create a Nx2 array for storing the results of our calculations. \n",
    "Each 2 element row will be used for the state of the system at one \n",
    "instant , and each instant is separated by time dt. The first element \n",
    "in each row will be position, the second velocity.\"\"\"\n",
    "y = zeros([N,2]) # the state vector\n",
    "y[0,0] = xo\n",
    "y[0,1] = vo\n",
    "\n",
    "# create array for holding Runge-Kutta results\n",
    "yrk = zeros([N,2]) # the state vector\n",
    "yrk[0,0] = xo\n",
    "yrk[0,1] = vo\n",
    "\n",
    "# create array to hold exact results from kin eqn\n",
    "ykin = zeros([N,2]) # the state vector\n",
    "ykin[0,0] = xo\n",
    "ykin[0,1] = vo\n",
    "\n",
    "# create array to hold differences between solutions\n",
    "diffrk = zeros([N,2]) \n",
    "diffeuler = zeros([N,2])\n",
    "diffrk[0,0]=0\n",
    "diffrk[0,1]=0\n",
    "diffeuler[0,0]=0\n",
    "diffeuler[0,1]=0\n",
    "\n",
    "# Now we do the calculations.\n",
    "# Loop only to N-1 so that we don’t run into a problem addressing y[N+1] \n",
    "# on the last point.\n",
    "\n",
    "for j in range(N-1):\n",
    "    \n",
    "    # We give the euler routine the current state y[j], the time \n",
    "    # (which we don’t care about at all in this ODE) the time step dt, and \n",
    "    # the derivatives function FreeFall().\n",
    "    y[j+1] = euler(y[j], time[j], dt, FreeFall)\n",
    "    yrk[j+1]=rk2(yrk[j], time[j], dt, FreeFall)\n",
    "    ykin[j+1]=kin(ykin[j], time[j], xo, vo, -9.8)\n",
    "    diffrk[j+1]=ykin[j+1]-yrk[j+1]\n",
    "#    print(ykin[j+1])\n",
    "    diffeuler[j+1]=ykin[j+1]-y[j+1]\n",
    "\n",
    "\n",
    "# That’s it for calculations! Now graph the results .\n",
    "# start by pulling out what we need from y.\n",
    "\n",
    "xdata = [y[j,0] for j in range(N)] \n",
    "vdata = [y[j,1] for j in range(N)]\n",
    "\n",
    "xrkdata = [yrk[j,0] for j in range(N)] \n",
    "vrkdata = [yrk[j,1] for j in range(N)]\n",
    "\n",
    "xkindata = [ykin[j,0] for j in range(N)] \n",
    "vkindata = [ykin[j,1] for j in range(N)]\n",
    "\n",
    "plot(time, xdata,'.b', time,xrkdata,'g+', time, xkindata,'r-', label=\"position\")\n",
    "#plot(time, vdata, label=\"velocity\")\n",
    "title('Free Fall simulation comparision')\n",
    "xlabel (\"time\")\n",
    "ylabel(\"position\")\n",
    "legend(['Euler','Runge-Kutta','Kinematic'],loc=3)\n",
    "ylim(20,27)\n",
    "xlim(0,1.5)\n",
    "#ylim(-12000, -6000)\n",
    "#xlim(40,50)\n",
    "\n"
   ]
  },
  {
   "cell_type": "code",
   "execution_count": 37,
   "metadata": {
    "collapsed": false
   },
   "outputs": [
    {
     "data": {
      "text/plain": [
       "<matplotlib.legend.Legend at 0x109f79438>"
      ]
     },
     "execution_count": 37,
     "metadata": {},
     "output_type": "execute_result"
    },
    {
     "data": {
      "image/png": "[encoded data removed]",
      "text/plain": [
       "<matplotlib.figure.Figure at 0x10952b6d8>"
      ]
     },
     "metadata": {},
     "output_type": "display_data"
    }
   ],
   "source": [
    "# find difference between solutions\n",
    "\n",
    "xdiffrk = [diffrk[j,0] for j in range(N)] \n",
    "xdiffeuler= [diffeuler[j,0] for j in range(N)] \n",
    "\n",
    "plot(time, xdiffrk,'.b', time,xdiffeuler,'g+', label=\"position\")\n",
    "#plot(time, vdata, label=\"velocity\")\n",
    "title('Free Fall simulation comparision')\n",
    "xlabel (\"time\")\n",
    "ylabel(\"differences\")\n",
    "legend(['Runge-Kutta','Euler'],loc=3)\n",
    "\n",
    "\n"
   ]
  },
  {
   "cell_type": "code",
   "execution_count": 51,
   "metadata": {
    "collapsed": false
   },
   "outputs": [
    {
     "name": "stdout",
     "output_type": "stream",
     "text": [
      "[ -4.64003434e+00  -7.10542736e-15]\n"
     ]
    }
   ],
   "source": [
    "print(ykin[15]-y[15])"
   ]
  },
  {
   "cell_type": "code",
   "execution_count": null,
   "metadata": {
    "collapsed": true
   },
   "outputs": [],
   "source": []
  }
 ],
 "metadata": {
  "kernelspec": {
   "display_name": "Python 3",
   "language": "python",
   "name": "python3"
  },
  "language_info": {
   "codemirror_mode": {
    "name": "ipython",
    "version": 3
   },
   "file_extension": ".py",
   "mimetype": "text/x-python",
   "name": "python",
   "nbconvert_exporter": "python",
   "pygments_lexer": "ipython3",
   "version": "3.5.1"
  }
 },
 "nbformat": 4,
 "nbformat_minor": 0
}
